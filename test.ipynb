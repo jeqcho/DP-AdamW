{
 "cells": [
  {
   "cell_type": "code",
   "execution_count": 11,
   "metadata": {},
   "outputs": [
    {
     "name": "stdout",
     "output_type": "stream",
     "text": [
      "2025-04-24 22:57:23.939344: E external/local_xla/xla/stream_executor/cuda/cuda_fft.cc:467] Unable to register cuFFT factory: Attempting to register factory for plugin cuFFT when one has already been registered\n",
      "WARNING: All log messages before absl::InitializeLog() is called are written to STDERR\n",
      "E0000 00:00:1745549843.956747  799316 cuda_dnn.cc:8579] Unable to register cuDNN factory: Attempting to register factory for plugin cuDNN when one has already been registered\n",
      "E0000 00:00:1745549843.961994  799316 cuda_blas.cc:1407] Unable to register cuBLAS factory: Attempting to register factory for plugin cuBLAS when one has already been registered\n",
      "W0000 00:00:1745549843.975840  799316 computation_placer.cc:177] computation placer already registered. Please check linkage and avoid linking the same target more than once.\n",
      "W0000 00:00:1745549843.975858  799316 computation_placer.cc:177] computation placer already registered. Please check linkage and avoid linking the same target more than once.\n",
      "W0000 00:00:1745549843.975862  799316 computation_placer.cc:177] computation placer already registered. Please check linkage and avoid linking the same target more than once.\n",
      "W0000 00:00:1745549843.975864  799316 computation_placer.cc:177] computation placer already registered. Please check linkage and avoid linking the same target more than once.\n",
      "I0000 00:00:1745549866.372369  799316 gpu_device.cc:2019] Created device /job:localhost/replica:0/task:0/device:GPU:0 with 9984 MB memory:  -> device: 0, name: NVIDIA A100-SXM4-40GB MIG 3g.20gb, pci bus id: 0000:4b:00.0, compute capability: 8.0\n",
      "/n/holylabs/LABS/sham_lab/Lab/lillian/DP-AdamW/jax_implementation/main.py:19: DeprecationWarning: Accessing jax.config via the jax.config submodule is deprecated.\n",
      "  from jax.config import config\n",
      "{'activation': 'tanh',\n",
      " 'adam_corr': True,\n",
      " 'adam_corr_after_epoch': -1,\n",
      " 'augmult_num': 0,\n",
      " 'batch_size': 1024,\n",
      " 'beta_1': 0.9,\n",
      " 'beta_2': 0.999,\n",
      " 'classifier_model': 'CNN5',\n",
      " 'clipping_only': False,\n",
      " 'cosine_lr': False,\n",
      " 'data_dir': '/tmp/data',\n",
      " 'dataset': 'CIFAR10',\n",
      " 'debug': True,\n",
      " 'delta': 1e-05,\n",
      " 'dict_path': '/tmp',\n",
      " 'disable_jit': False,\n",
      " 'dp_l2_norm_clip': 3.0,\n",
      " 'dp_noise_multiplier': 1.0,\n",
      " 'dp_sampling': False,\n",
      " 'elu_alpha': 1.0,\n",
      " 'ema': False,\n",
      " 'epochs': 70,\n",
      " 'eps': 1e-08,\n",
      " 'eps_root': 1e-09,\n",
      " 'eval_every': 1000,\n",
      " 'exp_group': None,\n",
      " 'exp_name': 'exp',\n",
      " 'exp_proj': None,\n",
      " 'gamma_decay': 1.0,\n",
      " 'imp_max': 1,\n",
      " 'imp_min': 0,\n",
      " 'learning_rate': 5e-06,\n",
      " 'lr_decay': 1.0,\n",
      " 'n_data_workers': 0,\n",
      " 'negative_slope': 0.2,\n",
      " 'normalization': 'none',\n",
      " 'num_classes': 10,\n",
      " 'optimizer': 'sgd',\n",
      " 'out_path': '$HOME/tmp',\n",
      " 'priv_accountant': 'prv',\n",
      " 'progress_bar': True,\n",
      " 'reload_ckpt_idx': None,\n",
      " 'reload_ckpt_path': None,\n",
      " 'resnet_depth': 16,\n",
      " 'resnet_width': 4,\n",
      " 'seed': 1024,\n",
      " 'sgd_momentum': False,\n",
      " 'target_eps': 1.0,\n",
      " 'tmp_bias': 0,\n",
      " 'trainer': 'DPAdam',\n",
      " 'weight_standardization': False}\n",
      "04/24/2025 22:57:53:WARNING:CUDA backend failed to initialize: Unable to load cuDNN. Is it installed? (Set TF_CPP_MIN_LOG_LEVEL=0 and rerun for more info.)\n",
      "/n/home11/lilliansun/.conda/envs/dp-adamw/lib/python3.11/site-packages/opacus/accountants/analysis/rdp.py:332: UserWarning: Optimal order is the largest alpha. Please consider expanding the range of alphas to get a tighter privacy bound.\n",
      "  warnings.warn(\n",
      "  0%|                                                  | 0/3360 [00:00<?, ?it/s]\n",
      "E=1 A=9.57 S=27 L=2.05 LR=0.0000 ‖Δ‖=8.75 ||≠||=0.14:   2%| | 76/3360 [09:23<6:3^C\n"
     ]
    }
   ],
   "source": [
    "!python jax_implementation/main.py --seed 1024 --epochs 70 --progress_bar --batch_size 1024 \\\n",
    "    --learning_rate 0.000005 --dataset CIFAR10 --classifier_model CNN5 \\\n",
    "    --activation tanh --dp_l2_norm_clip 3.0 --trainer DPAdam --adam_corr \\\n",
    "    --eps_root 0.000000001 --target_eps 1.0 --debug"
   ]
  },
  {
   "cell_type": "code",
   "execution_count": 8,
   "metadata": {},
   "outputs": [
    {
     "name": "stdout",
     "output_type": "stream",
     "text": [
      "No modules loaded\u001b[m\n",
      "\u001b[K\u001b[?1l\u001b>"
     ]
    }
   ],
   "source": [
    "!module load cuda/12.4.1-fasrc01\n",
    "!module load cudnn/8.9.2.26_cuda12-fasrc01\n",
    "!module list"
   ]
  },
  {
   "cell_type": "code",
   "execution_count": 7,
   "metadata": {},
   "outputs": [
    {
     "name": "stderr",
     "output_type": "stream",
     "text": [
      "No modules loaded\n"
     ]
    },
    {
     "data": {
      "text/plain": [
       "0"
      ]
     },
     "execution_count": 7,
     "metadata": {},
     "output_type": "execute_result"
    }
   ],
   "source": [
    "import os\n",
    "os.system(\"module load cuda/12.4.1-fasrc01\")\n",
    "os.system(\"module load cudnn/8.9.2.26_cuda12-fasrc01\")\n",
    "os.system(\"module list\")"
   ]
  },
  {
   "cell_type": "code",
   "execution_count": null,
   "metadata": {},
   "outputs": [],
   "source": [
    "!python jax_implementation/main.py --seed 1024 --epochs 70 --progress_bar --batch_size 512 \\\n",
    "    --learning_rate 0.001 --dataset CIFAR10 --classifier_model CNN5 \\\n",
    "    --activation tanh --dp_l2_norm_clip 3.0 --trainer DPAdam --target_eps 1.0 --debug"
   ]
  },
  {
   "cell_type": "code",
   "execution_count": null,
   "metadata": {},
   "outputs": [],
   "source": [
    "!python jax_implementation/main.py --seed 1024 --epochs 70 --progress_bar --batch_size 1024 \\\n",
    "    --learning_rate 0.01 --dataset CIFAR10 --classifier_model CNN5 \\\n",
    "    --activation tanh --dp_l2_norm_clip 3.0 --trainer DPIterative --target_eps 1.0 --debug"
   ]
  },
  {
   "cell_type": "code",
   "execution_count": null,
   "metadata": {},
   "outputs": [],
   "source": []
  }
 ],
 "metadata": {
  "kernelspec": {
   "display_name": "dp-adamw",
   "language": "python",
   "name": "python3"
  },
  "language_info": {
   "codemirror_mode": {
    "name": "ipython",
    "version": 3
   },
   "file_extension": ".py",
   "mimetype": "text/x-python",
   "name": "python",
   "nbconvert_exporter": "python",
   "pygments_lexer": "ipython3",
   "version": "3.11.12"
  }
 },
 "nbformat": 4,
 "nbformat_minor": 2
}
